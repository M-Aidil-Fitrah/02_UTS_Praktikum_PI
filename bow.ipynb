{
 "cells": [
  {
   "cell_type": "code",
   "execution_count": 8,
   "id": "26e79b73",
   "metadata": {},
   "outputs": [
    {
     "name": "stdout",
     "output_type": "stream",
     "text": [
      "✅ Index untuk tema 'etd_ugm_clean' berhasil dibuat di folder: index\\index_etd_ugm_clean\n",
      "✅ Index untuk tema 'etd_usk_clean' berhasil dibuat di folder: index\\index_etd_usk_clean\n",
      "✅ Index untuk tema 'kompas_clean' berhasil dibuat di folder: index\\index_kompas_clean\n",
      "✅ Index untuk tema 'mojok_clean_all' berhasil dibuat di folder: index\\index_mojok_clean_all\n",
      "✅ Index untuk tema 'tempo_clean' berhasil dibuat di folder: index\\index_tempo_clean\n"
     ]
    }
   ],
   "source": [
    "import pandas as pd\n",
    "from sklearn.feature_extraction.text import CountVectorizer\n",
    "from whoosh import index\n",
    "from whoosh.fields import Schema, TEXT, ID\n",
    "import os\n",
    "\n",
    "# Daftar tema (nama file CSV tanpa ekstensi)\n",
    "themes = ['etd_ugm_clean', 'etd_usk_clean', 'kompas_clean', 'mojok_clean_all', 'tempo_clean']\n",
    "\n",
    "# Buat folder utama untuk semua index\n",
    "main_index_dir = \"index\"\n",
    "os.makedirs(main_index_dir, exist_ok=True)\n",
    "\n",
    "for theme in themes:\n",
    "    # Baca data per tema\n",
    "    df = pd.read_csv(f'dataset_clean/{theme}.csv')\n",
    "\n",
    "    # Ambil teks dari kolom 'clean_tokens'\n",
    "    if 'clean_tokens' not in df.columns:\n",
    "        raise ValueError(f\"Kolom 'clean_tokens' tidak ditemukan pada {theme}.csv. Kolom yang ada: {df.columns.tolist()}\")\n",
    "    texts = df['clean_tokens'].astype(str).tolist()\n",
    "\n",
    "    # Buat folder index untuk setiap tema di dalam folder utama\n",
    "    theme_index_dir = os.path.join(main_index_dir, f'index_{theme}')\n",
    "    os.makedirs(theme_index_dir, exist_ok=True)\n",
    "\n",
    "    # Definisikan schema dan buat index\n",
    "    schema = Schema(id=ID(stored=True), content=TEXT(stored=True))\n",
    "    ix = index.create_in(theme_index_dir, schema)\n",
    "    writer = ix.writer()\n",
    "\n",
    "    # Tambahkan setiap dokumen ke dalam index\n",
    "    for i, text in enumerate(texts):\n",
    "        writer.add_document(id=f\"{theme}_{i}\", content=text)\n",
    "    writer.commit()\n",
    "\n",
    "    print(f\"✅ Index untuk tema '{theme}' berhasil dibuat di folder: {theme_index_dir}\")\n"
   ]
  }
 ],
 "metadata": {
  "kernelspec": {
   "display_name": "venvuts",
   "language": "python",
   "name": "python3"
  },
  "language_info": {
   "codemirror_mode": {
    "name": "ipython",
    "version": 3
   },
   "file_extension": ".py",
   "mimetype": "text/x-python",
   "name": "python",
   "nbconvert_exporter": "python",
   "pygments_lexer": "ipython3",
   "version": "3.12.4"
  }
 },
 "nbformat": 4,
 "nbformat_minor": 5
}
